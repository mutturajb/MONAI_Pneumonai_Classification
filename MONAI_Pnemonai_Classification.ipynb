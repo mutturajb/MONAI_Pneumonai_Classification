{
  "nbformat": 4,
  "nbformat_minor": 0,
  "metadata": {
    "colab": {
      "provenance": [],
      "gpuType": "T4"
    },
    "kernelspec": {
      "name": "python3",
      "display_name": "Python 3"
    },
    "language_info": {
      "name": "python"
    },
    "accelerator": "GPU"
  },
  "cells": [
    {
      "cell_type": "code",
      "source": [
        "# Step 1: Mount Google Drive\n",
        "from google.colab import drive\n",
        "drive.mount('/content/drive')\n",
        "\n",
        "# Step 2: Install MONAI and Gradio\n",
        "!pip install -q monai[all] gradio\n",
        "\n",
        "# Step 3: Imports\n",
        "import os\n",
        "import torch\n",
        "import numpy as np\n",
        "from torchvision.datasets import ImageFolder\n",
        "from torchvision import transforms\n",
        "from torch.utils.data import DataLoader\n",
        "from monai.networks.nets import densenet121\n",
        "from sklearn.metrics import classification_report, confusion_matrix\n",
        "import gradio as gr\n",
        "\n",
        "# Step 4: Paths\n",
        "data_dir = \"/content/drive/My Drive/MONAI_Pneumonai_Classification/dataset\"\n",
        "model_path = \"/content/drive/My Drive/MONAI_Pneumonai_Classification/pneumonia_densenet121.pth\"\n",
        "device = torch.device(\"cuda\" if torch.cuda.is_available() else \"cpu\")\n",
        "\n",
        "# Step 5: Dataset\n",
        "transform = transforms.Compose([\n",
        "    transforms.Grayscale(),              # Ensure 1 channel\n",
        "    transforms.Resize((224, 224)),\n",
        "    transforms.ToTensor(),\n",
        "])\n",
        "\n",
        "train_dataset = ImageFolder(os.path.join(data_dir, 'train'), transform=transform)\n",
        "val_dataset = ImageFolder(os.path.join(data_dir, 'val'), transform=transform)\n",
        "\n",
        "train_loader = DataLoader(train_dataset, batch_size=16, shuffle=True)\n",
        "val_loader = DataLoader(val_dataset, batch_size=16, shuffle=False)\n",
        "\n",
        "# Step 6: Model Setup\n",
        "model = densenet121(spatial_dims=2, in_channels=1, out_channels=2).to(device)\n",
        "loss_fn = torch.nn.CrossEntropyLoss()\n",
        "optimizer = torch.optim.Adam(model.parameters(), lr=1e-4)\n",
        "\n",
        "# Step 7: Training\n",
        "epochs = 5\n",
        "for epoch in range(epochs):\n",
        "    model.train()\n",
        "    epoch_loss = 0\n",
        "    for images, labels in train_loader:\n",
        "        images, labels = images.to(device), labels.to(device)\n",
        "        optimizer.zero_grad()\n",
        "        outputs = model(images)\n",
        "        loss = loss_fn(outputs, labels)\n",
        "        loss.backward()\n",
        "        optimizer.step()\n",
        "        epoch_loss += loss.item()\n",
        "    print(f\"Epoch {epoch+1}/{epochs}, Loss: {epoch_loss/len(train_loader):.4f}\")\n",
        "\n",
        "# Step 8: Save Model\n",
        "torch.save(model.state_dict(), model_path)\n",
        "print(f\"✅ Model saved to: {model_path}\")\n"
      ],
      "metadata": {
        "colab": {
          "base_uri": "https://localhost:8080/"
        },
        "id": "as1bGzGLQEtR",
        "outputId": "d30cdb56-ad76-4b4e-9298-5ae5b2f032be"
      },
      "execution_count": 3,
      "outputs": [
        {
          "output_type": "stream",
          "name": "stdout",
          "text": [
            "Drive already mounted at /content/drive; to attempt to forcibly remount, call drive.mount(\"/content/drive\", force_remount=True).\n",
            "Epoch 1/5, Loss: 0.1794\n",
            "Epoch 2/5, Loss: 0.1093\n",
            "Epoch 3/5, Loss: 0.0750\n",
            "Epoch 4/5, Loss: 0.0626\n",
            "Epoch 5/5, Loss: 0.0454\n",
            "✅ Model saved to: /content/drive/My Drive/MONAI_Pneumonai_Classification/pneumonia_densenet121.pth\n"
          ]
        }
      ]
    },
    {
      "cell_type": "code",
      "source": [
        "# Step 9: Evaluation\n",
        "model.eval()\n",
        "y_true, y_pred = [], []\n",
        "\n",
        "with torch.no_grad():\n",
        "    for images, labels in val_loader:\n",
        "        images, labels = images.to(device), labels.to(device)\n",
        "        outputs = model(images)\n",
        "        _, preds = torch.max(outputs, 1)\n",
        "        y_true.extend(labels.cpu().numpy())\n",
        "        y_pred.extend(preds.cpu().numpy())\n",
        "\n",
        "# Results\n",
        "cm = confusion_matrix(y_true, y_pred)\n",
        "print(\"Confusion Matrix:\\n\", cm)\n",
        "\n",
        "report = classification_report(y_true, y_pred, target_names=train_dataset.classes)\n",
        "print(\"Classification Report:\\n\", report)\n"
      ],
      "metadata": {
        "colab": {
          "base_uri": "https://localhost:8080/"
        },
        "id": "0jUMQo9jQ7gb",
        "outputId": "f3654faf-6330-4366-b6ef-1f366cb29061"
      },
      "execution_count": 4,
      "outputs": [
        {
          "output_type": "stream",
          "name": "stdout",
          "text": [
            "Confusion Matrix:\n",
            " [[3 5]\n",
            " [0 8]]\n",
            "Classification Report:\n",
            "               precision    recall  f1-score   support\n",
            "\n",
            "      NORMAL       1.00      0.38      0.55         8\n",
            "   PNEUMONIA       0.62      1.00      0.76         8\n",
            "\n",
            "    accuracy                           0.69        16\n",
            "   macro avg       0.81      0.69      0.65        16\n",
            "weighted avg       0.81      0.69      0.65        16\n",
            "\n"
          ]
        }
      ]
    },
    {
      "cell_type": "code",
      "source": [
        "# Step 10: Gradio UI for Prediction\n",
        "model.load_state_dict(torch.load(model_path, map_location=device))\n",
        "model.eval()\n",
        "\n",
        "def predict_image(img):\n",
        "    import PIL\n",
        "    img = img.convert(\"L\").resize((224, 224))  # grayscale\n",
        "    tensor = transforms.ToTensor()(img).unsqueeze(0).to(device)\n",
        "    with torch.no_grad():\n",
        "        output = model(tensor)\n",
        "        prob = torch.nn.functional.softmax(output[0], dim=0)\n",
        "        pred_idx = prob.argmax().item()\n",
        "    return {\n",
        "        train_dataset.classes[0]: float(prob[0]),\n",
        "        train_dataset.classes[1]: float(prob[1])\n",
        "    }\n",
        "\n",
        "gr.Interface(\n",
        "    fn=predict_image,\n",
        "    inputs=gr.Image(type=\"pil\"),\n",
        "    outputs=gr.Label(num_top_classes=2),\n",
        "    title=\"Pneumonia Detection from Chest X-ray\"\n",
        ").launch()\n"
      ],
      "metadata": {
        "colab": {
          "base_uri": "https://localhost:8080/",
          "height": 663
        },
        "id": "KDprQKTNQ-V4",
        "outputId": "67f74854-3123-4213-9b46-142f2e05acf2"
      },
      "execution_count": 5,
      "outputs": [
        {
          "output_type": "stream",
          "name": "stderr",
          "text": [
            "You are using `torch.load` with `weights_only=False` (the current default value), which uses the default pickle module implicitly. It is possible to construct malicious pickle data which will execute arbitrary code during unpickling (See https://github.com/pytorch/pytorch/blob/main/SECURITY.md#untrusted-models for more details). In a future release, the default value for `weights_only` will be flipped to `True`. This limits the functions that could be executed during unpickling. Arbitrary objects will no longer be allowed to be loaded via this mode unless they are explicitly allowlisted by the user via `torch.serialization.add_safe_globals`. We recommend you start setting `weights_only=True` for any use case where you don't have full control of the loaded file. Please open an issue on GitHub for any issues related to this experimental feature.\n"
          ]
        },
        {
          "output_type": "stream",
          "name": "stdout",
          "text": [
            "It looks like you are running Gradio on a hosted a Jupyter notebook. For the Gradio app to work, sharing must be enabled. Automatically setting `share=True` (you can turn this off by setting `share=False` in `launch()` explicitly).\n",
            "\n",
            "Colab notebook detected. To show errors in colab notebook, set debug=True in launch()\n",
            "* Running on public URL: https://13aa98fe4fdb46fda4.gradio.live\n",
            "\n",
            "This share link expires in 1 week. For free permanent hosting and GPU upgrades, run `gradio deploy` from the terminal in the working directory to deploy to Hugging Face Spaces (https://huggingface.co/spaces)\n"
          ]
        },
        {
          "output_type": "display_data",
          "data": {
            "text/plain": [
              "<IPython.core.display.HTML object>"
            ],
            "text/html": [
              "<div><iframe src=\"https://13aa98fe4fdb46fda4.gradio.live\" width=\"100%\" height=\"500\" allow=\"autoplay; camera; microphone; clipboard-read; clipboard-write;\" frameborder=\"0\" allowfullscreen></iframe></div>"
            ]
          },
          "metadata": {}
        },
        {
          "output_type": "execute_result",
          "data": {
            "text/plain": []
          },
          "metadata": {},
          "execution_count": 5
        }
      ]
    }
  ]
}